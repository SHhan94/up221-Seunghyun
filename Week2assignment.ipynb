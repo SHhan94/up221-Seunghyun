{
 "cells": [
  {
   "cell_type": "code",
   "execution_count": 58,
   "id": "d0bdba1b-cce6-4da3-944f-d3fc1b28c0ff",
   "metadata": {},
   "outputs": [],
   "source": [
    "# Week 2 assignment\n",
    "# My Name is Seunghyun Han\n",
    "#I am going to use Asthma rate data in Los angeles\n",
    "#It showed\"Adult respondents ages 18+ who were ever diagnosed with asthma by a doctor (2011 thru 2012) by zip code by CHIS\""
   ]
  },
  {
   "cell_type": "code",
   "execution_count": null,
   "id": "f9aaa9e6-476b-4e5f-9842-adf0b4e4571a",
   "metadata": {},
   "outputs": [],
   "source": [
    "#I am going to import the dataset"
   ]
  },
  {
   "cell_type": "code",
   "execution_count": 2,
   "id": "4cc08be8-3493-440b-8469-3e106268ce30",
   "metadata": {},
   "outputs": [
    {
     "name": "stdout",
     "output_type": "stream",
     "text": [
      "Requirement already satisfied: pandas in /opt/conda/lib/python3.11/site-packages (2.1.4)\n",
      "Requirement already satisfied: numpy<2,>=1.23.2 in /opt/conda/lib/python3.11/site-packages (from pandas) (1.26.3)\n",
      "Requirement already satisfied: python-dateutil>=2.8.2 in /opt/conda/lib/python3.11/site-packages (from pandas) (2.8.2)\n",
      "Requirement already satisfied: pytz>=2020.1 in /opt/conda/lib/python3.11/site-packages (from pandas) (2023.3.post1)\n",
      "Requirement already satisfied: tzdata>=2022.1 in /opt/conda/lib/python3.11/site-packages (from pandas) (2023.4)\n",
      "Requirement already satisfied: six>=1.5 in /opt/conda/lib/python3.11/site-packages (from python-dateutil>=2.8.2->pandas) (1.16.0)\n"
     ]
    }
   ],
   "source": [
    "!pip install pandas"
   ]
  },
  {
   "cell_type": "code",
   "execution_count": 9,
   "id": "533049b4-96f1-4639-9d67-7563a3ca281a",
   "metadata": {},
   "outputs": [],
   "source": [
    "import pandas as pd"
   ]
  },
  {
   "cell_type": "code",
   "execution_count": null,
   "id": "08b6b2b3-e2cf-4318-8bcb-c6b00fbd98d8",
   "metadata": {},
   "outputs": [],
   "source": [
    "#Now import Dta"
   ]
  },
  {
   "cell_type": "code",
   "execution_count": 23,
   "id": "309a5218-a445-40b3-921b-4bc0ac58decc",
   "metadata": {},
   "outputs": [],
   "source": [
    "df = gpd.read_file('Asthma.csv')"
   ]
  },
  {
   "cell_type": "code",
   "execution_count": 24,
   "id": "43bc4f7f-cbe1-4fa5-98b6-c8fd2d861771",
   "metadata": {},
   "outputs": [
    {
     "data": {
      "text/plain": [
       "geopandas.geodataframe.GeoDataFrame"
      ]
     },
     "execution_count": 24,
     "metadata": {},
     "output_type": "execute_result"
    }
   ],
   "source": [
    "type(df)"
   ]
  },
  {
   "cell_type": "code",
   "execution_count": null,
   "id": "e7fe0cbc-8f80-403d-8f0e-8980b1640e67",
   "metadata": {},
   "outputs": [],
   "source": [
    "#I want to check shape"
   ]
  },
  {
   "cell_type": "code",
   "execution_count": 25,
   "id": "3d419b4c-d061-4583-9b51-84d2a07a7654",
   "metadata": {},
   "outputs": [
    {
     "data": {
      "text/plain": [
       "(155, 8)"
      ]
     },
     "execution_count": 25,
     "metadata": {},
     "output_type": "execute_result"
    }
   ],
   "source": [
    "df.shape"
   ]
  },
  {
   "cell_type": "code",
   "execution_count": 26,
   "id": "87e341a3-ef39-4786-b1ff-27f8009ebc8a",
   "metadata": {},
   "outputs": [
    {
     "data": {
      "text/plain": [
       "['OBJECTID',\n",
       " 'ZIPCODE',\n",
       " 'Zip_code',\n",
       " 'PAdAsthma',\n",
       " 'PAdAsthma2',\n",
       " 'NAdAsthma',\n",
       " 'Pop_18olde',\n",
       " 'geometry']"
      ]
     },
     "execution_count": 26,
     "metadata": {},
     "output_type": "execute_result"
    }
   ],
   "source": [
    "df.columns.to_list()"
   ]
  },
  {
   "cell_type": "code",
   "execution_count": null,
   "id": "76737c4e-978f-408e-95d8-efa282d7f622",
   "metadata": {},
   "outputs": [],
   "source": [
    "#now we know how many rows and columns are there and even the columns list"
   ]
  },
  {
   "cell_type": "code",
   "execution_count": 27,
   "id": "4f6f138d-ae7e-43e6-b763-e07881631d6c",
   "metadata": {},
   "outputs": [
    {
     "data": {
      "text/plain": [
       "<bound method DataFrame.info of     OBJECTID ZIPCODE Zip_code PAdAsthma PAdAsthma2 NAdAsthma Pop_18olde  \\\n",
       "0          1   90001    90001     0.096        9.6    4012.8      41800   \n",
       "1          2   90002    90002     0.103       10.3    3903.7      37900   \n",
       "2          3   90003    90003       0.1         10      4090      40900   \n",
       "3          4   90004    90004      0.09          9      4329      48100   \n",
       "4          5   90005    90005     0.087        8.7    2749.2      31600   \n",
       "..       ...     ...      ...       ...        ...       ...        ...   \n",
       "150      151   91607    91607     0.134       13.4    3309.8      24700   \n",
       "151      152   91608    91608         0          0         0          0   \n",
       "152      153   91754    91754     0.123       12.3    3259.5      26500   \n",
       "153      154   91801    91801      0.13         13      5590      43000   \n",
       "154      155   91803    91803     0.128       12.8    3084.8      24100   \n",
       "\n",
       "    geometry  \n",
       "0       None  \n",
       "1       None  \n",
       "2       None  \n",
       "3       None  \n",
       "4       None  \n",
       "..       ...  \n",
       "150     None  \n",
       "151     None  \n",
       "152     None  \n",
       "153     None  \n",
       "154     None  \n",
       "\n",
       "[155 rows x 8 columns]>"
      ]
     },
     "execution_count": 27,
     "metadata": {},
     "output_type": "execute_result"
    }
   ],
   "source": [
    "df.info"
   ]
  },
  {
   "cell_type": "code",
   "execution_count": null,
   "id": "5ed4ddf2-5537-4581-8143-ddcbbd911432",
   "metadata": {},
   "outputs": [],
   "source": [
    "#now I want to check a random number of observations. Let's do 30"
   ]
  },
  {
   "cell_type": "code",
   "execution_count": 41,
   "id": "1b06faf1-c00f-48b1-b601-70e873e9189c",
   "metadata": {},
   "outputs": [
    {
     "data": {
      "text/html": [
       "<div>\n",
       "<style scoped>\n",
       "    .dataframe tbody tr th:only-of-type {\n",
       "        vertical-align: middle;\n",
       "    }\n",
       "\n",
       "    .dataframe tbody tr th {\n",
       "        vertical-align: top;\n",
       "    }\n",
       "\n",
       "    .dataframe thead th {\n",
       "        text-align: right;\n",
       "    }\n",
       "</style>\n",
       "<table border=\"1\" class=\"dataframe\">\n",
       "  <thead>\n",
       "    <tr style=\"text-align: right;\">\n",
       "      <th></th>\n",
       "      <th>OBJECTID</th>\n",
       "      <th>ZIPCODE</th>\n",
       "      <th>Zip_code</th>\n",
       "      <th>PAdAsthma</th>\n",
       "      <th>PAdAsthma2</th>\n",
       "      <th>NAdAsthma</th>\n",
       "      <th>Pop_18olde</th>\n",
       "      <th>geometry</th>\n",
       "    </tr>\n",
       "  </thead>\n",
       "  <tbody>\n",
       "    <tr>\n",
       "      <th>0</th>\n",
       "      <td>1</td>\n",
       "      <td>90001</td>\n",
       "      <td>90001</td>\n",
       "      <td>0.096</td>\n",
       "      <td>9.6</td>\n",
       "      <td>4012.8</td>\n",
       "      <td>41800</td>\n",
       "      <td>None</td>\n",
       "    </tr>\n",
       "    <tr>\n",
       "      <th>1</th>\n",
       "      <td>2</td>\n",
       "      <td>90002</td>\n",
       "      <td>90002</td>\n",
       "      <td>0.103</td>\n",
       "      <td>10.3</td>\n",
       "      <td>3903.7</td>\n",
       "      <td>37900</td>\n",
       "      <td>None</td>\n",
       "    </tr>\n",
       "    <tr>\n",
       "      <th>2</th>\n",
       "      <td>3</td>\n",
       "      <td>90003</td>\n",
       "      <td>90003</td>\n",
       "      <td>0.1</td>\n",
       "      <td>10</td>\n",
       "      <td>4090</td>\n",
       "      <td>40900</td>\n",
       "      <td>None</td>\n",
       "    </tr>\n",
       "    <tr>\n",
       "      <th>3</th>\n",
       "      <td>4</td>\n",
       "      <td>90004</td>\n",
       "      <td>90004</td>\n",
       "      <td>0.09</td>\n",
       "      <td>9</td>\n",
       "      <td>4329</td>\n",
       "      <td>48100</td>\n",
       "      <td>None</td>\n",
       "    </tr>\n",
       "    <tr>\n",
       "      <th>4</th>\n",
       "      <td>5</td>\n",
       "      <td>90005</td>\n",
       "      <td>90005</td>\n",
       "      <td>0.087</td>\n",
       "      <td>8.7</td>\n",
       "      <td>2749.2</td>\n",
       "      <td>31600</td>\n",
       "      <td>None</td>\n",
       "    </tr>\n",
       "    <tr>\n",
       "      <th>5</th>\n",
       "      <td>6</td>\n",
       "      <td>90006</td>\n",
       "      <td>90006</td>\n",
       "      <td>0.083</td>\n",
       "      <td>8.3</td>\n",
       "      <td>3187.2</td>\n",
       "      <td>38400</td>\n",
       "      <td>None</td>\n",
       "    </tr>\n",
       "    <tr>\n",
       "      <th>6</th>\n",
       "      <td>7</td>\n",
       "      <td>90007</td>\n",
       "      <td>90007</td>\n",
       "      <td>0.107</td>\n",
       "      <td>10.7</td>\n",
       "      <td>3327.7</td>\n",
       "      <td>31100</td>\n",
       "      <td>None</td>\n",
       "    </tr>\n",
       "    <tr>\n",
       "      <th>7</th>\n",
       "      <td>8</td>\n",
       "      <td>90008</td>\n",
       "      <td>90008</td>\n",
       "      <td>0.151</td>\n",
       "      <td>15.1</td>\n",
       "      <td>4031.7</td>\n",
       "      <td>26700</td>\n",
       "      <td>None</td>\n",
       "    </tr>\n",
       "    <tr>\n",
       "      <th>8</th>\n",
       "      <td>9</td>\n",
       "      <td>90011</td>\n",
       "      <td>90011</td>\n",
       "      <td>0.091</td>\n",
       "      <td>9.1</td>\n",
       "      <td>6415.5</td>\n",
       "      <td>70500</td>\n",
       "      <td>None</td>\n",
       "    </tr>\n",
       "    <tr>\n",
       "      <th>9</th>\n",
       "      <td>10</td>\n",
       "      <td>90012</td>\n",
       "      <td>90012</td>\n",
       "      <td>0.091</td>\n",
       "      <td>9.1</td>\n",
       "      <td>1510.6</td>\n",
       "      <td>16600</td>\n",
       "      <td>None</td>\n",
       "    </tr>\n",
       "    <tr>\n",
       "      <th>10</th>\n",
       "      <td>11</td>\n",
       "      <td>90013</td>\n",
       "      <td>90013</td>\n",
       "      <td>0</td>\n",
       "      <td>0</td>\n",
       "      <td>0</td>\n",
       "      <td>0</td>\n",
       "      <td>None</td>\n",
       "    </tr>\n",
       "    <tr>\n",
       "      <th>11</th>\n",
       "      <td>12</td>\n",
       "      <td>90014</td>\n",
       "      <td>90014</td>\n",
       "      <td>0</td>\n",
       "      <td>0</td>\n",
       "      <td>0</td>\n",
       "      <td>0</td>\n",
       "      <td>None</td>\n",
       "    </tr>\n",
       "    <tr>\n",
       "      <th>12</th>\n",
       "      <td>13</td>\n",
       "      <td>90015</td>\n",
       "      <td>90015</td>\n",
       "      <td>0.091</td>\n",
       "      <td>9.1</td>\n",
       "      <td>1537.9</td>\n",
       "      <td>16900</td>\n",
       "      <td>None</td>\n",
       "    </tr>\n",
       "    <tr>\n",
       "      <th>13</th>\n",
       "      <td>14</td>\n",
       "      <td>90016</td>\n",
       "      <td>90016</td>\n",
       "      <td>0.119</td>\n",
       "      <td>11.9</td>\n",
       "      <td>4498.2</td>\n",
       "      <td>37800</td>\n",
       "      <td>None</td>\n",
       "    </tr>\n",
       "    <tr>\n",
       "      <th>14</th>\n",
       "      <td>15</td>\n",
       "      <td>90017</td>\n",
       "      <td>90017</td>\n",
       "      <td>0.089</td>\n",
       "      <td>8.9</td>\n",
       "      <td>1958</td>\n",
       "      <td>22000</td>\n",
       "      <td>None</td>\n",
       "    </tr>\n",
       "    <tr>\n",
       "      <th>15</th>\n",
       "      <td>16</td>\n",
       "      <td>90018</td>\n",
       "      <td>90018</td>\n",
       "      <td>0.111</td>\n",
       "      <td>11.1</td>\n",
       "      <td>4184.7</td>\n",
       "      <td>37700</td>\n",
       "      <td>None</td>\n",
       "    </tr>\n",
       "    <tr>\n",
       "      <th>16</th>\n",
       "      <td>17</td>\n",
       "      <td>90019</td>\n",
       "      <td>90019</td>\n",
       "      <td>0.102</td>\n",
       "      <td>10.2</td>\n",
       "      <td>4906.2</td>\n",
       "      <td>48100</td>\n",
       "      <td>None</td>\n",
       "    </tr>\n",
       "    <tr>\n",
       "      <th>17</th>\n",
       "      <td>18</td>\n",
       "      <td>90020</td>\n",
       "      <td>90020</td>\n",
       "      <td>0.084</td>\n",
       "      <td>8.4</td>\n",
       "      <td>2326.8</td>\n",
       "      <td>27700</td>\n",
       "      <td>None</td>\n",
       "    </tr>\n",
       "    <tr>\n",
       "      <th>18</th>\n",
       "      <td>19</td>\n",
       "      <td>90021</td>\n",
       "      <td>90021</td>\n",
       "      <td>0</td>\n",
       "      <td>0</td>\n",
       "      <td>0</td>\n",
       "      <td>0</td>\n",
       "      <td>None</td>\n",
       "    </tr>\n",
       "    <tr>\n",
       "      <th>19</th>\n",
       "      <td>20</td>\n",
       "      <td>90023</td>\n",
       "      <td>90023</td>\n",
       "      <td>0.087</td>\n",
       "      <td>8.7</td>\n",
       "      <td>2810.1</td>\n",
       "      <td>32300</td>\n",
       "      <td>None</td>\n",
       "    </tr>\n",
       "    <tr>\n",
       "      <th>20</th>\n",
       "      <td>21</td>\n",
       "      <td>90024</td>\n",
       "      <td>90024</td>\n",
       "      <td>0.163</td>\n",
       "      <td>16.3</td>\n",
       "      <td>5688.7</td>\n",
       "      <td>34900</td>\n",
       "      <td>None</td>\n",
       "    </tr>\n",
       "    <tr>\n",
       "      <th>21</th>\n",
       "      <td>22</td>\n",
       "      <td>90025</td>\n",
       "      <td>90025</td>\n",
       "      <td>0.139</td>\n",
       "      <td>13.9</td>\n",
       "      <td>5170.8</td>\n",
       "      <td>37200</td>\n",
       "      <td>None</td>\n",
       "    </tr>\n",
       "    <tr>\n",
       "      <th>22</th>\n",
       "      <td>23</td>\n",
       "      <td>90026</td>\n",
       "      <td>90026</td>\n",
       "      <td>0.097</td>\n",
       "      <td>9.7</td>\n",
       "      <td>5441.7</td>\n",
       "      <td>56100</td>\n",
       "      <td>None</td>\n",
       "    </tr>\n",
       "    <tr>\n",
       "      <th>23</th>\n",
       "      <td>24</td>\n",
       "      <td>90027</td>\n",
       "      <td>90027</td>\n",
       "      <td>0.112</td>\n",
       "      <td>11.2</td>\n",
       "      <td>3998.4</td>\n",
       "      <td>35700</td>\n",
       "      <td>None</td>\n",
       "    </tr>\n",
       "    <tr>\n",
       "      <th>24</th>\n",
       "      <td>25</td>\n",
       "      <td>90028</td>\n",
       "      <td>90028</td>\n",
       "      <td>0.108</td>\n",
       "      <td>10.8</td>\n",
       "      <td>2840.4</td>\n",
       "      <td>26300</td>\n",
       "      <td>None</td>\n",
       "    </tr>\n",
       "    <tr>\n",
       "      <th>25</th>\n",
       "      <td>26</td>\n",
       "      <td>90029</td>\n",
       "      <td>90029</td>\n",
       "      <td>0.091</td>\n",
       "      <td>9.1</td>\n",
       "      <td>2757.3</td>\n",
       "      <td>30300</td>\n",
       "      <td>None</td>\n",
       "    </tr>\n",
       "    <tr>\n",
       "      <th>26</th>\n",
       "      <td>27</td>\n",
       "      <td>90031</td>\n",
       "      <td>90031</td>\n",
       "      <td>0.081</td>\n",
       "      <td>8.1</td>\n",
       "      <td>2373.3</td>\n",
       "      <td>29300</td>\n",
       "      <td>None</td>\n",
       "    </tr>\n",
       "    <tr>\n",
       "      <th>27</th>\n",
       "      <td>28</td>\n",
       "      <td>90032</td>\n",
       "      <td>90032</td>\n",
       "      <td>0.097</td>\n",
       "      <td>9.7</td>\n",
       "      <td>3230.1</td>\n",
       "      <td>33300</td>\n",
       "      <td>None</td>\n",
       "    </tr>\n",
       "    <tr>\n",
       "      <th>28</th>\n",
       "      <td>29</td>\n",
       "      <td>90033</td>\n",
       "      <td>90033</td>\n",
       "      <td>0.082</td>\n",
       "      <td>8.2</td>\n",
       "      <td>2665</td>\n",
       "      <td>32500</td>\n",
       "      <td>None</td>\n",
       "    </tr>\n",
       "    <tr>\n",
       "      <th>29</th>\n",
       "      <td>30</td>\n",
       "      <td>90034</td>\n",
       "      <td>90034</td>\n",
       "      <td>0.134</td>\n",
       "      <td>13.4</td>\n",
       "      <td>6740.2</td>\n",
       "      <td>50300</td>\n",
       "      <td>None</td>\n",
       "    </tr>\n",
       "  </tbody>\n",
       "</table>\n",
       "</div>"
      ],
      "text/plain": [
       "   OBJECTID ZIPCODE Zip_code PAdAsthma PAdAsthma2 NAdAsthma Pop_18olde  \\\n",
       "0         1   90001    90001     0.096        9.6    4012.8      41800   \n",
       "1         2   90002    90002     0.103       10.3    3903.7      37900   \n",
       "2         3   90003    90003       0.1         10      4090      40900   \n",
       "3         4   90004    90004      0.09          9      4329      48100   \n",
       "4         5   90005    90005     0.087        8.7    2749.2      31600   \n",
       "5         6   90006    90006     0.083        8.3    3187.2      38400   \n",
       "6         7   90007    90007     0.107       10.7    3327.7      31100   \n",
       "7         8   90008    90008     0.151       15.1    4031.7      26700   \n",
       "8         9   90011    90011     0.091        9.1    6415.5      70500   \n",
       "9        10   90012    90012     0.091        9.1    1510.6      16600   \n",
       "10       11   90013    90013         0          0         0          0   \n",
       "11       12   90014    90014         0          0         0          0   \n",
       "12       13   90015    90015     0.091        9.1    1537.9      16900   \n",
       "13       14   90016    90016     0.119       11.9    4498.2      37800   \n",
       "14       15   90017    90017     0.089        8.9      1958      22000   \n",
       "15       16   90018    90018     0.111       11.1    4184.7      37700   \n",
       "16       17   90019    90019     0.102       10.2    4906.2      48100   \n",
       "17       18   90020    90020     0.084        8.4    2326.8      27700   \n",
       "18       19   90021    90021         0          0         0          0   \n",
       "19       20   90023    90023     0.087        8.7    2810.1      32300   \n",
       "20       21   90024    90024     0.163       16.3    5688.7      34900   \n",
       "21       22   90025    90025     0.139       13.9    5170.8      37200   \n",
       "22       23   90026    90026     0.097        9.7    5441.7      56100   \n",
       "23       24   90027    90027     0.112       11.2    3998.4      35700   \n",
       "24       25   90028    90028     0.108       10.8    2840.4      26300   \n",
       "25       26   90029    90029     0.091        9.1    2757.3      30300   \n",
       "26       27   90031    90031     0.081        8.1    2373.3      29300   \n",
       "27       28   90032    90032     0.097        9.7    3230.1      33300   \n",
       "28       29   90033    90033     0.082        8.2      2665      32500   \n",
       "29       30   90034    90034     0.134       13.4    6740.2      50300   \n",
       "\n",
       "   geometry  \n",
       "0      None  \n",
       "1      None  \n",
       "2      None  \n",
       "3      None  \n",
       "4      None  \n",
       "5      None  \n",
       "6      None  \n",
       "7      None  \n",
       "8      None  \n",
       "9      None  \n",
       "10     None  \n",
       "11     None  \n",
       "12     None  \n",
       "13     None  \n",
       "14     None  \n",
       "15     None  \n",
       "16     None  \n",
       "17     None  \n",
       "18     None  \n",
       "19     None  \n",
       "20     None  \n",
       "21     None  \n",
       "22     None  \n",
       "23     None  \n",
       "24     None  \n",
       "25     None  \n",
       "26     None  \n",
       "27     None  \n",
       "28     None  \n",
       "29     None  "
      ]
     },
     "execution_count": 41,
     "metadata": {},
     "output_type": "execute_result"
    }
   ],
   "source": [
    "df.head(30)"
   ]
  },
  {
   "cell_type": "code",
   "execution_count": null,
   "id": "b30d7f6e-fc2f-4384-9228-b4cb5652d281",
   "metadata": {},
   "outputs": [],
   "source": [
    "#These are the first 30 rows of data"
   ]
  },
  {
   "cell_type": "code",
   "execution_count": 55,
   "id": "f06eee6a-1a99-4535-bbc8-2c2da8419a0e",
   "metadata": {},
   "outputs": [
    {
     "data": {
      "text/plain": [
       "<Axes: >"
      ]
     },
     "execution_count": 55,
     "metadata": {},
     "output_type": "execute_result"
    },
    {
     "data": {
      "image/png": "[encoded data removed]",
      "text/plain": [
       "<Figure size 640x480 with 1 Axes>"
      ]
     },
     "metadata": {},
     "output_type": "display_data"
    }
   ],
   "source": [
    "df.plot()"
   ]
  },
  {
   "cell_type": "code",
   "execution_count": null,
   "id": "ae940911-1401-496f-8881-75e4af979909",
   "metadata": {},
   "outputs": [],
   "source": [
    "#I can't see anything from plot. Maybe the data is too messy or not organized for plot"
   ]
  },
  {
   "cell_type": "code",
   "execution_count": null,
   "id": "51f1271f-7611-4a0e-a3a7-5ef0d620c75c",
   "metadata": {},
   "outputs": [],
   "source": [
    "#I wannt to try to check last data"
   ]
  },
  {
   "cell_type": "code",
   "execution_count": 31,
   "id": "7906b7a8-921a-4147-8f98-4220847af62e",
   "metadata": {},
   "outputs": [
    {
     "data": {
      "text/html": [
       "<div>\n",
       "<style scoped>\n",
       "    .dataframe tbody tr th:only-of-type {\n",
       "        vertical-align: middle;\n",
       "    }\n",
       "\n",
       "    .dataframe tbody tr th {\n",
       "        vertical-align: top;\n",
       "    }\n",
       "\n",
       "    .dataframe thead th {\n",
       "        text-align: right;\n",
       "    }\n",
       "</style>\n",
       "<table border=\"1\" class=\"dataframe\">\n",
       "  <thead>\n",
       "    <tr style=\"text-align: right;\">\n",
       "      <th></th>\n",
       "      <th>OBJECTID</th>\n",
       "      <th>ZIPCODE</th>\n",
       "      <th>Zip_code</th>\n",
       "      <th>PAdAsthma</th>\n",
       "      <th>PAdAsthma2</th>\n",
       "      <th>NAdAsthma</th>\n",
       "      <th>Pop_18olde</th>\n",
       "      <th>geometry</th>\n",
       "    </tr>\n",
       "  </thead>\n",
       "  <tbody>\n",
       "    <tr>\n",
       "      <th>154</th>\n",
       "      <td>155</td>\n",
       "      <td>91803</td>\n",
       "      <td>91803</td>\n",
       "      <td>0.128</td>\n",
       "      <td>12.8</td>\n",
       "      <td>3084.8</td>\n",
       "      <td>24100</td>\n",
       "      <td>None</td>\n",
       "    </tr>\n",
       "  </tbody>\n",
       "</table>\n",
       "</div>"
      ],
      "text/plain": [
       "    OBJECTID ZIPCODE Zip_code PAdAsthma PAdAsthma2 NAdAsthma Pop_18olde  \\\n",
       "154      155   91803    91803     0.128       12.8    3084.8      24100   \n",
       "\n",
       "    geometry  \n",
       "154     None  "
      ]
     },
     "execution_count": 31,
     "metadata": {},
     "output_type": "execute_result"
    }
   ],
   "source": [
    "df.tail(1)"
   ]
  },
  {
   "cell_type": "code",
   "execution_count": null,
   "id": "169ca073-32c0-4f87-9016-931344cf15e8",
   "metadata": {},
   "outputs": [],
   "source": [
    "#random 4 data"
   ]
  },
  {
   "cell_type": "code",
   "execution_count": 32,
   "id": "b422d55b-d14d-40e0-b0c9-39026a0a93e7",
   "metadata": {},
   "outputs": [
    {
     "data": {
      "text/html": [
       "<div>\n",
       "<style scoped>\n",
       "    .dataframe tbody tr th:only-of-type {\n",
       "        vertical-align: middle;\n",
       "    }\n",
       "\n",
       "    .dataframe tbody tr th {\n",
       "        vertical-align: top;\n",
       "    }\n",
       "\n",
       "    .dataframe thead th {\n",
       "        text-align: right;\n",
       "    }\n",
       "</style>\n",
       "<table border=\"1\" class=\"dataframe\">\n",
       "  <thead>\n",
       "    <tr style=\"text-align: right;\">\n",
       "      <th></th>\n",
       "      <th>OBJECTID</th>\n",
       "      <th>ZIPCODE</th>\n",
       "      <th>Zip_code</th>\n",
       "      <th>PAdAsthma</th>\n",
       "      <th>PAdAsthma2</th>\n",
       "      <th>NAdAsthma</th>\n",
       "      <th>Pop_18olde</th>\n",
       "      <th>geometry</th>\n",
       "    </tr>\n",
       "  </thead>\n",
       "  <tbody>\n",
       "    <tr>\n",
       "      <th>106</th>\n",
       "      <td>107</td>\n",
       "      <td>91206</td>\n",
       "      <td>91206</td>\n",
       "      <td>0.124</td>\n",
       "      <td>12.4</td>\n",
       "      <td>3682.8</td>\n",
       "      <td>29700</td>\n",
       "      <td>None</td>\n",
       "    </tr>\n",
       "    <tr>\n",
       "      <th>147</th>\n",
       "      <td>148</td>\n",
       "      <td>91604</td>\n",
       "      <td>91604</td>\n",
       "      <td>0.125</td>\n",
       "      <td>12.5</td>\n",
       "      <td>3100</td>\n",
       "      <td>24800</td>\n",
       "      <td>None</td>\n",
       "    </tr>\n",
       "    <tr>\n",
       "      <th>64</th>\n",
       "      <td>65</td>\n",
       "      <td>90211</td>\n",
       "      <td>90211</td>\n",
       "      <td>0</td>\n",
       "      <td>0</td>\n",
       "      <td>0</td>\n",
       "      <td>0</td>\n",
       "      <td>None</td>\n",
       "    </tr>\n",
       "    <tr>\n",
       "      <th>16</th>\n",
       "      <td>17</td>\n",
       "      <td>90019</td>\n",
       "      <td>90019</td>\n",
       "      <td>0.102</td>\n",
       "      <td>10.2</td>\n",
       "      <td>4906.2</td>\n",
       "      <td>48100</td>\n",
       "      <td>None</td>\n",
       "    </tr>\n",
       "  </tbody>\n",
       "</table>\n",
       "</div>"
      ],
      "text/plain": [
       "    OBJECTID ZIPCODE Zip_code PAdAsthma PAdAsthma2 NAdAsthma Pop_18olde  \\\n",
       "106      107   91206    91206     0.124       12.4    3682.8      29700   \n",
       "147      148   91604    91604     0.125       12.5      3100      24800   \n",
       "64        65   90211    90211         0          0         0          0   \n",
       "16        17   90019    90019     0.102       10.2    4906.2      48100   \n",
       "\n",
       "    geometry  \n",
       "106     None  \n",
       "147     None  \n",
       "64      None  \n",
       "16      None  "
      ]
     },
     "execution_count": 32,
     "metadata": {},
     "output_type": "execute_result"
    }
   ],
   "source": [
    "df.sample(4)"
   ]
  },
  {
   "cell_type": "code",
   "execution_count": 34,
   "id": "5f4fb705-da1a-41c3-ba4c-02bd98fef10a",
   "metadata": {},
   "outputs": [
    {
     "data": {
      "text/plain": [
       "OBJECTID        object\n",
       "ZIPCODE         object\n",
       "Zip_code        object\n",
       "PAdAsthma       object\n",
       "PAdAsthma2      object\n",
       "NAdAsthma       object\n",
       "Pop_18olde      object\n",
       "geometry      geometry\n",
       "dtype: object"
      ]
     },
     "execution_count": 34,
     "metadata": {},
     "output_type": "execute_result"
    }
   ],
   "source": [
    "df.dtypes"
   ]
  },
  {
   "cell_type": "code",
   "execution_count": 46,
   "id": "dce6142f-7aeb-4d3a-b228-5e02dca7ccd9",
   "metadata": {},
   "outputs": [
    {
     "data": {
      "text/plain": [
       "['OBJECTID',\n",
       " 'ZIPCODE',\n",
       " 'Zip_code',\n",
       " 'PAdAsthma',\n",
       " 'PAdAsthma2',\n",
       " 'NAdAsthma',\n",
       " 'Pop_18olde',\n",
       " 'geometry']"
      ]
     },
     "execution_count": 46,
     "metadata": {},
     "output_type": "execute_result"
    }
   ],
   "source": [
    "df.columns.to_list()"
   ]
  },
  {
   "cell_type": "code",
   "execution_count": null,
   "id": "e834ad46-dabf-4285-9833-4e85ebaf7095",
   "metadata": {},
   "outputs": [],
   "source": [
    "#PAdAsthma2 is percentage of projected 18 and older population with Asthma conditions residing in Zip Code. "
   ]
  },
  {
   "cell_type": "code",
   "execution_count": 88,
   "id": "f481df87-ba31-47dc-9c28-ee4577bd1979",
   "metadata": {},
   "outputs": [
    {
     "data": {
      "text/plain": [
       "ZIPCODE  PAdAsthma2\n",
       "90001    9.6           1\n",
       "90002    10.3          1\n",
       "90003    10            1\n",
       "90004    9             1\n",
       "90005    8.7           1\n",
       "                      ..\n",
       "91607    13.4          1\n",
       "91608    0             1\n",
       "91754    12.3          1\n",
       "91801    13            1\n",
       "91803    12.8          1\n",
       "Name: count, Length: 155, dtype: int64"
      ]
     },
     "execution_count": 88,
     "metadata": {},
     "output_type": "execute_result"
    }
   ],
   "source": [
    "df.groupby('ZIPCODE')['PAdAsthma2'].value_counts()"
   ]
  },
  {
   "cell_type": "code",
   "execution_count": 94,
   "id": "d1f943f5-55d4-4467-8bc3-8c035817e889",
   "metadata": {},
   "outputs": [
    {
     "data": {
      "text/plain": [
       "ZIPCODE  PAdAsthma2\n",
       "90001    9.6           1\n",
       "90002    10.3          1\n",
       "90003    10            1\n",
       "90004    9             1\n",
       "90005    8.7           1\n",
       "                      ..\n",
       "91607    13.4          1\n",
       "91608    0             1\n",
       "91754    12.3          1\n",
       "91801    13            1\n",
       "91803    12.8          1\n",
       "Name: count, Length: 155, dtype: int64"
      ]
     },
     "execution_count": 94,
     "metadata": {},
     "output_type": "execute_result"
    }
   ],
   "source": [
    "ff_count = df.groupby('ZIPCODE')['PAdAsthma2'].value_counts()\n",
    "ff_count"
   ]
  },
  {
   "cell_type": "code",
   "execution_count": 96,
   "id": "81e81a63-04f3-448b-a717-02c5e3712fcc",
   "metadata": {},
   "outputs": [],
   "source": [
    "desired_columns = df.groupby('ZIPCODE')['PAdAsthma2'].value_counts()"
   ]
  },
  {
   "cell_type": "code",
   "execution_count": 124,
   "id": "7e4fde60-4ad9-47b0-af02-2f962896f3ff",
   "metadata": {},
   "outputs": [
    {
     "data": {
      "text/plain": [
       "<Axes: xlabel='ZIPCODE,PAdAsthma2'>"
      ]
     },
     "execution_count": 124,
     "metadata": {},
     "output_type": "execute_result"
    },
    {
     "data": {
      "image/png": "[encoded data removed]",
      "text/plain": [
       "<Figure size 640x480 with 1 Axes>"
      ]
     },
     "metadata": {},
     "output_type": "display_data"
    }
   ],
   "source": [
    "ff_count.plot()"
   ]
  },
  {
   "cell_type": "code",
   "execution_count": null,
   "id": "fb0e1158-d695-4035-9d2e-c3145ce7a359",
   "metadata": {},
   "outputs": [],
   "source": [
    "#just noticed I don't need to do value counts since this data alreadyt sort by zipcode"
   ]
  },
  {
   "cell_type": "code",
   "execution_count": 97,
   "id": "c8fad6f6-11d9-45da-916f-3d93c923e260",
   "metadata": {},
   "outputs": [
    {
     "data": {
      "text/plain": [
       "<bound method NDFrame.describe of     OBJECTID ZIPCODE Zip_code PAdAsthma PAdAsthma2 NAdAsthma Pop_18olde  \\\n",
       "0          1   90001    90001     0.096        9.6    4012.8      41800   \n",
       "1          2   90002    90002     0.103       10.3    3903.7      37900   \n",
       "2          3   90003    90003       0.1         10      4090      40900   \n",
       "3          4   90004    90004      0.09          9      4329      48100   \n",
       "4          5   90005    90005     0.087        8.7    2749.2      31600   \n",
       "..       ...     ...      ...       ...        ...       ...        ...   \n",
       "150      151   91607    91607     0.134       13.4    3309.8      24700   \n",
       "151      152   91608    91608         0          0         0          0   \n",
       "152      153   91754    91754     0.123       12.3    3259.5      26500   \n",
       "153      154   91801    91801      0.13         13      5590      43000   \n",
       "154      155   91803    91803     0.128       12.8    3084.8      24100   \n",
       "\n",
       "    geometry  \n",
       "0       None  \n",
       "1       None  \n",
       "2       None  \n",
       "3       None  \n",
       "4       None  \n",
       "..       ...  \n",
       "150     None  \n",
       "151     None  \n",
       "152     None  \n",
       "153     None  \n",
       "154     None  \n",
       "\n",
       "[155 rows x 8 columns]>"
      ]
     },
     "execution_count": 97,
     "metadata": {},
     "output_type": "execute_result"
    }
   ],
   "source": [
    "df.describe"
   ]
  },
  {
   "cell_type": "code",
   "execution_count": null,
   "id": "6db6c6ab-946e-4364-920e-4c671b78f7cb",
   "metadata": {},
   "outputs": [],
   "source": [
    "#I assume that plot did not work because of too many columns and messy datas\n",
    "#So, I am trying to show only zipcode and PAdasthma2\n",
    "#by the way, PAdasthma2 is percentage of projected 18 and older population with Asthma conditions residing in Zip Code"
   ]
  },
  {
   "cell_type": "code",
   "execution_count": 98,
   "id": "97d26b65-127e-4c69-84a0-138972fdb141",
   "metadata": {},
   "outputs": [
    {
     "data": {
      "text/html": [
       "<div>\n",
       "<style scoped>\n",
       "    .dataframe tbody tr th:only-of-type {\n",
       "        vertical-align: middle;\n",
       "    }\n",
       "\n",
       "    .dataframe tbody tr th {\n",
       "        vertical-align: top;\n",
       "    }\n",
       "\n",
       "    .dataframe thead th {\n",
       "        text-align: right;\n",
       "    }\n",
       "</style>\n",
       "<table border=\"1\" class=\"dataframe\">\n",
       "  <thead>\n",
       "    <tr style=\"text-align: right;\">\n",
       "      <th></th>\n",
       "      <th>ZIPCODE</th>\n",
       "      <th>PAdAsthma2</th>\n",
       "    </tr>\n",
       "  </thead>\n",
       "  <tbody>\n",
       "    <tr>\n",
       "      <th>0</th>\n",
       "      <td>90001</td>\n",
       "      <td>9.6</td>\n",
       "    </tr>\n",
       "    <tr>\n",
       "      <th>1</th>\n",
       "      <td>90002</td>\n",
       "      <td>10.3</td>\n",
       "    </tr>\n",
       "    <tr>\n",
       "      <th>2</th>\n",
       "      <td>90003</td>\n",
       "      <td>10</td>\n",
       "    </tr>\n",
       "    <tr>\n",
       "      <th>3</th>\n",
       "      <td>90004</td>\n",
       "      <td>9</td>\n",
       "    </tr>\n",
       "    <tr>\n",
       "      <th>4</th>\n",
       "      <td>90005</td>\n",
       "      <td>8.7</td>\n",
       "    </tr>\n",
       "    <tr>\n",
       "      <th>...</th>\n",
       "      <td>...</td>\n",
       "      <td>...</td>\n",
       "    </tr>\n",
       "    <tr>\n",
       "      <th>150</th>\n",
       "      <td>91607</td>\n",
       "      <td>13.4</td>\n",
       "    </tr>\n",
       "    <tr>\n",
       "      <th>151</th>\n",
       "      <td>91608</td>\n",
       "      <td>0</td>\n",
       "    </tr>\n",
       "    <tr>\n",
       "      <th>152</th>\n",
       "      <td>91754</td>\n",
       "      <td>12.3</td>\n",
       "    </tr>\n",
       "    <tr>\n",
       "      <th>153</th>\n",
       "      <td>91801</td>\n",
       "      <td>13</td>\n",
       "    </tr>\n",
       "    <tr>\n",
       "      <th>154</th>\n",
       "      <td>91803</td>\n",
       "      <td>12.8</td>\n",
       "    </tr>\n",
       "  </tbody>\n",
       "</table>\n",
       "<p>155 rows × 2 columns</p>\n",
       "</div>"
      ],
      "text/plain": [
       "    ZIPCODE PAdAsthma2\n",
       "0     90001        9.6\n",
       "1     90002       10.3\n",
       "2     90003         10\n",
       "3     90004          9\n",
       "4     90005        8.7\n",
       "..      ...        ...\n",
       "150   91607       13.4\n",
       "151   91608          0\n",
       "152   91754       12.3\n",
       "153   91801         13\n",
       "154   91803       12.8\n",
       "\n",
       "[155 rows x 2 columns]"
      ]
     },
     "execution_count": 98,
     "metadata": {},
     "output_type": "execute_result"
    }
   ],
   "source": [
    "df[ ['ZIPCODE','PAdAsthma2'] ]"
   ]
  },
  {
   "cell_type": "code",
   "execution_count": 117,
   "id": "f92ff837-a5c7-4252-8187-945e4d492450",
   "metadata": {},
   "outputs": [
    {
     "data": {
      "text/plain": [
       "<Axes: >"
      ]
     },
     "execution_count": 117,
     "metadata": {},
     "output_type": "execute_result"
    },
    {
     "data": {
      "image/png": "[encoded data removed]",
      "text/plain": [
       "<Figure size 640x480 with 1 Axes>"
      ]
     },
     "metadata": {},
     "output_type": "display_data"
    }
   ],
   "source": [
    "df.plot()"
   ]
  },
  {
   "cell_type": "code",
   "execution_count": null,
   "id": "d8e7f010-1043-486e-8b5d-f02529619323",
   "metadata": {},
   "outputs": [],
   "source": [
    "#Still does not show anything, I am not sure I am doing right way\n",
    "#let's try to do in another way"
   ]
  },
  {
   "cell_type": "code",
   "execution_count": 103,
   "id": "1ac077a4-4f78-4d4f-9132-3ac1cbed54a1",
   "metadata": {},
   "outputs": [
    {
     "data": {
      "text/html": [
       "<div>\n",
       "<style scoped>\n",
       "    .dataframe tbody tr th:only-of-type {\n",
       "        vertical-align: middle;\n",
       "    }\n",
       "\n",
       "    .dataframe tbody tr th {\n",
       "        vertical-align: top;\n",
       "    }\n",
       "\n",
       "    .dataframe thead th {\n",
       "        text-align: right;\n",
       "    }\n",
       "</style>\n",
       "<table border=\"1\" class=\"dataframe\">\n",
       "  <thead>\n",
       "    <tr style=\"text-align: right;\">\n",
       "      <th></th>\n",
       "      <th>PAdAsthma2</th>\n",
       "    </tr>\n",
       "    <tr>\n",
       "      <th>ZIPCODE</th>\n",
       "      <th></th>\n",
       "    </tr>\n",
       "  </thead>\n",
       "  <tbody>\n",
       "    <tr>\n",
       "      <th>90001</th>\n",
       "      <td>9.6</td>\n",
       "    </tr>\n",
       "    <tr>\n",
       "      <th>90002</th>\n",
       "      <td>10.3</td>\n",
       "    </tr>\n",
       "    <tr>\n",
       "      <th>90003</th>\n",
       "      <td>10</td>\n",
       "    </tr>\n",
       "    <tr>\n",
       "      <th>90004</th>\n",
       "      <td>9</td>\n",
       "    </tr>\n",
       "    <tr>\n",
       "      <th>90005</th>\n",
       "      <td>8.7</td>\n",
       "    </tr>\n",
       "    <tr>\n",
       "      <th>...</th>\n",
       "      <td>...</td>\n",
       "    </tr>\n",
       "    <tr>\n",
       "      <th>91607</th>\n",
       "      <td>13.4</td>\n",
       "    </tr>\n",
       "    <tr>\n",
       "      <th>91608</th>\n",
       "      <td>0</td>\n",
       "    </tr>\n",
       "    <tr>\n",
       "      <th>91754</th>\n",
       "      <td>12.3</td>\n",
       "    </tr>\n",
       "    <tr>\n",
       "      <th>91801</th>\n",
       "      <td>13</td>\n",
       "    </tr>\n",
       "    <tr>\n",
       "      <th>91803</th>\n",
       "      <td>12.8</td>\n",
       "    </tr>\n",
       "  </tbody>\n",
       "</table>\n",
       "<p>155 rows × 1 columns</p>\n",
       "</div>"
      ],
      "text/plain": [
       "        PAdAsthma2\n",
       "ZIPCODE           \n",
       "90001          9.6\n",
       "90002         10.3\n",
       "90003           10\n",
       "90004            9\n",
       "90005          8.7\n",
       "...            ...\n",
       "91607         13.4\n",
       "91608            0\n",
       "91754         12.3\n",
       "91801           13\n",
       "91803         12.8\n",
       "\n",
       "[155 rows x 1 columns]"
      ]
     },
     "execution_count": 103,
     "metadata": {},
     "output_type": "execute_result"
    }
   ],
   "source": [
    "df.pivot_table(index = 'ZIPCODE', \n",
    "\t\t\t\t\t\t\tvalues = 'PAdAsthma2', \n",
    "\t\t\t\t\t\t\taggfunc = 'sum')"
   ]
  },
  {
   "cell_type": "code",
   "execution_count": 114,
   "id": "4f0000c7-d43c-4385-b42a-365cc28ecda4",
   "metadata": {},
   "outputs": [
    {
     "data": {
      "text/html": [
       "<div>\n",
       "<style scoped>\n",
       "    .dataframe tbody tr th:only-of-type {\n",
       "        vertical-align: middle;\n",
       "    }\n",
       "\n",
       "    .dataframe tbody tr th {\n",
       "        vertical-align: top;\n",
       "    }\n",
       "\n",
       "    .dataframe thead th {\n",
       "        text-align: right;\n",
       "    }\n",
       "</style>\n",
       "<table border=\"1\" class=\"dataframe\">\n",
       "  <thead>\n",
       "    <tr style=\"text-align: right;\">\n",
       "      <th></th>\n",
       "      <th>PAdAsthma2</th>\n",
       "    </tr>\n",
       "    <tr>\n",
       "      <th>ZIPCODE</th>\n",
       "      <th></th>\n",
       "    </tr>\n",
       "  </thead>\n",
       "  <tbody>\n",
       "    <tr>\n",
       "      <th>90001</th>\n",
       "      <td>9.6</td>\n",
       "    </tr>\n",
       "    <tr>\n",
       "      <th>90002</th>\n",
       "      <td>10.3</td>\n",
       "    </tr>\n",
       "    <tr>\n",
       "      <th>90003</th>\n",
       "      <td>10</td>\n",
       "    </tr>\n",
       "    <tr>\n",
       "      <th>90004</th>\n",
       "      <td>9</td>\n",
       "    </tr>\n",
       "    <tr>\n",
       "      <th>90005</th>\n",
       "      <td>8.7</td>\n",
       "    </tr>\n",
       "    <tr>\n",
       "      <th>...</th>\n",
       "      <td>...</td>\n",
       "    </tr>\n",
       "    <tr>\n",
       "      <th>91607</th>\n",
       "      <td>13.4</td>\n",
       "    </tr>\n",
       "    <tr>\n",
       "      <th>91608</th>\n",
       "      <td>0</td>\n",
       "    </tr>\n",
       "    <tr>\n",
       "      <th>91754</th>\n",
       "      <td>12.3</td>\n",
       "    </tr>\n",
       "    <tr>\n",
       "      <th>91801</th>\n",
       "      <td>13</td>\n",
       "    </tr>\n",
       "    <tr>\n",
       "      <th>91803</th>\n",
       "      <td>12.8</td>\n",
       "    </tr>\n",
       "  </tbody>\n",
       "</table>\n",
       "<p>155 rows × 1 columns</p>\n",
       "</div>"
      ],
      "text/plain": [
       "        PAdAsthma2\n",
       "ZIPCODE           \n",
       "90001          9.6\n",
       "90002         10.3\n",
       "90003           10\n",
       "90004            9\n",
       "90005          8.7\n",
       "...            ...\n",
       "91607         13.4\n",
       "91608            0\n",
       "91754         12.3\n",
       "91801           13\n",
       "91803         12.8\n",
       "\n",
       "[155 rows x 1 columns]"
      ]
     },
     "execution_count": 114,
     "metadata": {},
     "output_type": "execute_result"
    }
   ],
   "source": [
    "DD_do = df.pivot_table(index = 'ZIPCODE', \n",
    "\t\t\t\t\t\t\tvalues = 'PAdAsthma2', \n",
    "\t\t\t\t\t\t\taggfunc = 'sum')\n",
    "DD_do"
   ]
  },
  {
   "cell_type": "code",
   "execution_count": 115,
   "id": "4a347bc3-e963-48db-a0e5-a0028985be07",
   "metadata": {},
   "outputs": [
    {
     "ename": "TypeError",
     "evalue": "no numeric data to plot",
     "output_type": "error",
     "traceback": [
      "\u001b[0;31m---------------------------------------------------------------------------\u001b[0m",
      "\u001b[0;31mTypeError\u001b[0m                                 Traceback (most recent call last)",
      "Cell \u001b[0;32mIn[115], line 1\u001b[0m\n\u001b[0;32m----> 1\u001b[0m \u001b[43mDD_do\u001b[49m\u001b[38;5;241;43m.\u001b[39;49m\u001b[43mplot\u001b[49m\u001b[43m(\u001b[49m\u001b[43m)\u001b[49m\n",
      "File \u001b[0;32m/opt/conda/lib/python3.11/site-packages/pandas/plotting/_core.py:1031\u001b[0m, in \u001b[0;36mPlotAccessor.__call__\u001b[0;34m(self, *args, **kwargs)\u001b[0m\n\u001b[1;32m   1028\u001b[0m             label_name \u001b[38;5;241m=\u001b[39m label_kw \u001b[38;5;129;01mor\u001b[39;00m data\u001b[38;5;241m.\u001b[39mcolumns\n\u001b[1;32m   1029\u001b[0m             data\u001b[38;5;241m.\u001b[39mcolumns \u001b[38;5;241m=\u001b[39m label_name\n\u001b[0;32m-> 1031\u001b[0m \u001b[38;5;28;01mreturn\u001b[39;00m \u001b[43mplot_backend\u001b[49m\u001b[38;5;241;43m.\u001b[39;49m\u001b[43mplot\u001b[49m\u001b[43m(\u001b[49m\u001b[43mdata\u001b[49m\u001b[43m,\u001b[49m\u001b[43m \u001b[49m\u001b[43mkind\u001b[49m\u001b[38;5;241;43m=\u001b[39;49m\u001b[43mkind\u001b[49m\u001b[43m,\u001b[49m\u001b[43m \u001b[49m\u001b[38;5;241;43m*\u001b[39;49m\u001b[38;5;241;43m*\u001b[39;49m\u001b[43mkwargs\u001b[49m\u001b[43m)\u001b[49m\n",
      "File \u001b[0;32m/opt/conda/lib/python3.11/site-packages/pandas/plotting/_matplotlib/__init__.py:71\u001b[0m, in \u001b[0;36mplot\u001b[0;34m(data, kind, **kwargs)\u001b[0m\n\u001b[1;32m     69\u001b[0m         kwargs[\u001b[38;5;124m\"\u001b[39m\u001b[38;5;124max\u001b[39m\u001b[38;5;124m\"\u001b[39m] \u001b[38;5;241m=\u001b[39m \u001b[38;5;28mgetattr\u001b[39m(ax, \u001b[38;5;124m\"\u001b[39m\u001b[38;5;124mleft_ax\u001b[39m\u001b[38;5;124m\"\u001b[39m, ax)\n\u001b[1;32m     70\u001b[0m plot_obj \u001b[38;5;241m=\u001b[39m PLOT_CLASSES[kind](data, \u001b[38;5;241m*\u001b[39m\u001b[38;5;241m*\u001b[39mkwargs)\n\u001b[0;32m---> 71\u001b[0m \u001b[43mplot_obj\u001b[49m\u001b[38;5;241;43m.\u001b[39;49m\u001b[43mgenerate\u001b[49m\u001b[43m(\u001b[49m\u001b[43m)\u001b[49m\n\u001b[1;32m     72\u001b[0m plot_obj\u001b[38;5;241m.\u001b[39mdraw()\n\u001b[1;32m     73\u001b[0m \u001b[38;5;28;01mreturn\u001b[39;00m plot_obj\u001b[38;5;241m.\u001b[39mresult\n",
      "File \u001b[0;32m/opt/conda/lib/python3.11/site-packages/pandas/plotting/_matplotlib/core.py:451\u001b[0m, in \u001b[0;36mMPLPlot.generate\u001b[0;34m(self)\u001b[0m\n\u001b[1;32m    449\u001b[0m \u001b[38;5;28;01mdef\u001b[39;00m \u001b[38;5;21mgenerate\u001b[39m(\u001b[38;5;28mself\u001b[39m) \u001b[38;5;241m-\u001b[39m\u001b[38;5;241m>\u001b[39m \u001b[38;5;28;01mNone\u001b[39;00m:\n\u001b[1;32m    450\u001b[0m     \u001b[38;5;28mself\u001b[39m\u001b[38;5;241m.\u001b[39m_args_adjust()\n\u001b[0;32m--> 451\u001b[0m     \u001b[38;5;28;43mself\u001b[39;49m\u001b[38;5;241;43m.\u001b[39;49m\u001b[43m_compute_plot_data\u001b[49m\u001b[43m(\u001b[49m\u001b[43m)\u001b[49m\n\u001b[1;32m    452\u001b[0m     \u001b[38;5;28mself\u001b[39m\u001b[38;5;241m.\u001b[39m_setup_subplots()\n\u001b[1;32m    453\u001b[0m     \u001b[38;5;28mself\u001b[39m\u001b[38;5;241m.\u001b[39m_make_plot()\n",
      "File \u001b[0;32m/opt/conda/lib/python3.11/site-packages/pandas/plotting/_matplotlib/core.py:636\u001b[0m, in \u001b[0;36mMPLPlot._compute_plot_data\u001b[0;34m(self)\u001b[0m\n\u001b[1;32m    634\u001b[0m \u001b[38;5;66;03m# no non-numeric frames or series allowed\u001b[39;00m\n\u001b[1;32m    635\u001b[0m \u001b[38;5;28;01mif\u001b[39;00m is_empty:\n\u001b[0;32m--> 636\u001b[0m     \u001b[38;5;28;01mraise\u001b[39;00m \u001b[38;5;167;01mTypeError\u001b[39;00m(\u001b[38;5;124m\"\u001b[39m\u001b[38;5;124mno numeric data to plot\u001b[39m\u001b[38;5;124m\"\u001b[39m)\n\u001b[1;32m    638\u001b[0m \u001b[38;5;28mself\u001b[39m\u001b[38;5;241m.\u001b[39mdata \u001b[38;5;241m=\u001b[39m numeric_data\u001b[38;5;241m.\u001b[39mapply(\u001b[38;5;28mself\u001b[39m\u001b[38;5;241m.\u001b[39m_convert_to_ndarray)\n",
      "\u001b[0;31mTypeError\u001b[0m: no numeric data to plot"
     ]
    }
   ],
   "source": [
    "DD_do.plot()"
   ]
  },
  {
   "cell_type": "code",
   "execution_count": null,
   "id": "417a4e93-3fd1-4bdd-a1c1-55187b88428c",
   "metadata": {},
   "outputs": [],
   "source": [
    "#I have no idea how to creat plot for this data :<"
   ]
  },
  {
   "cell_type": "code",
   "execution_count": 121,
   "id": "0cee6650-c7ff-4618-b1cc-854169f79993",
   "metadata": {},
   "outputs": [
    {
     "ename": "KeyError",
     "evalue": "'zipcode'",
     "output_type": "error",
     "traceback": [
      "\u001b[0;31m---------------------------------------------------------------------------\u001b[0m",
      "\u001b[0;31mKeyError\u001b[0m                                  Traceback (most recent call last)",
      "File \u001b[0;32m/opt/conda/lib/python3.11/site-packages/pandas/core/indexes/base.py:3791\u001b[0m, in \u001b[0;36mIndex.get_loc\u001b[0;34m(self, key)\u001b[0m\n\u001b[1;32m   3790\u001b[0m \u001b[38;5;28;01mtry\u001b[39;00m:\n\u001b[0;32m-> 3791\u001b[0m     \u001b[38;5;28;01mreturn\u001b[39;00m \u001b[38;5;28;43mself\u001b[39;49m\u001b[38;5;241;43m.\u001b[39;49m\u001b[43m_engine\u001b[49m\u001b[38;5;241;43m.\u001b[39;49m\u001b[43mget_loc\u001b[49m\u001b[43m(\u001b[49m\u001b[43mcasted_key\u001b[49m\u001b[43m)\u001b[49m\n\u001b[1;32m   3792\u001b[0m \u001b[38;5;28;01mexcept\u001b[39;00m \u001b[38;5;167;01mKeyError\u001b[39;00m \u001b[38;5;28;01mas\u001b[39;00m err:\n",
      "File \u001b[0;32mindex.pyx:152\u001b[0m, in \u001b[0;36mpandas._libs.index.IndexEngine.get_loc\u001b[0;34m()\u001b[0m\n",
      "File \u001b[0;32mindex.pyx:181\u001b[0m, in \u001b[0;36mpandas._libs.index.IndexEngine.get_loc\u001b[0;34m()\u001b[0m\n",
      "File \u001b[0;32mpandas/_libs/hashtable_class_helper.pxi:7080\u001b[0m, in \u001b[0;36mpandas._libs.hashtable.PyObjectHashTable.get_item\u001b[0;34m()\u001b[0m\n",
      "File \u001b[0;32mpandas/_libs/hashtable_class_helper.pxi:7088\u001b[0m, in \u001b[0;36mpandas._libs.hashtable.PyObjectHashTable.get_item\u001b[0;34m()\u001b[0m\n",
      "\u001b[0;31mKeyError\u001b[0m: 'zipcode'",
      "\nThe above exception was the direct cause of the following exception:\n",
      "\u001b[0;31mKeyError\u001b[0m                                  Traceback (most recent call last)",
      "Cell \u001b[0;32mIn[121], line 1\u001b[0m\n\u001b[0;32m----> 1\u001b[0m \u001b[43mDD_do\u001b[49m\u001b[38;5;241;43m.\u001b[39;49m\u001b[43mplot\u001b[49m\u001b[38;5;241;43m.\u001b[39;49m\u001b[43mbar\u001b[49m\u001b[43m(\u001b[49m\u001b[43mx\u001b[49m\u001b[38;5;241;43m=\u001b[39;49m\u001b[38;5;124;43m'\u001b[39;49m\u001b[38;5;124;43mzipcode\u001b[39;49m\u001b[38;5;124;43m'\u001b[39;49m\u001b[43m,\u001b[49m\u001b[43m \u001b[49m\u001b[43my\u001b[49m\u001b[43m \u001b[49m\u001b[38;5;241;43m=\u001b[39;49m\u001b[38;5;124;43m'\u001b[39;49m\u001b[38;5;124;43mPAdAsthma2\u001b[39;49m\u001b[38;5;124;43m'\u001b[39;49m\u001b[43m,\u001b[49m\u001b[43m \u001b[49m\u001b[43mtitle\u001b[49m\u001b[38;5;241;43m=\u001b[39;49m\u001b[43m \u001b[49m\u001b[38;5;124;43m'\u001b[39;49m\u001b[38;5;124;43mPlot\u001b[39;49m\u001b[38;5;124;43m'\u001b[39;49m\u001b[43m)\u001b[49m\n",
      "File \u001b[0;32m/opt/conda/lib/python3.11/site-packages/pandas/plotting/_core.py:1193\u001b[0m, in \u001b[0;36mPlotAccessor.bar\u001b[0;34m(self, x, y, **kwargs)\u001b[0m\n\u001b[1;32m   1103\u001b[0m \u001b[38;5;129m@Appender\u001b[39m(\n\u001b[1;32m   1104\u001b[0m \u001b[38;5;250m    \u001b[39m\u001b[38;5;124;03m\"\"\"\u001b[39;00m\n\u001b[1;32m   1105\u001b[0m \u001b[38;5;124;03m    See Also\u001b[39;00m\n\u001b[0;32m   (...)\u001b[0m\n\u001b[1;32m   1182\u001b[0m     \u001b[38;5;28mself\u001b[39m, x: Hashable \u001b[38;5;241m|\u001b[39m \u001b[38;5;28;01mNone\u001b[39;00m \u001b[38;5;241m=\u001b[39m \u001b[38;5;28;01mNone\u001b[39;00m, y: Hashable \u001b[38;5;241m|\u001b[39m \u001b[38;5;28;01mNone\u001b[39;00m \u001b[38;5;241m=\u001b[39m \u001b[38;5;28;01mNone\u001b[39;00m, \u001b[38;5;241m*\u001b[39m\u001b[38;5;241m*\u001b[39mkwargs\n\u001b[1;32m   1183\u001b[0m ) \u001b[38;5;241m-\u001b[39m\u001b[38;5;241m>\u001b[39m PlotAccessor:\n\u001b[1;32m   1184\u001b[0m \u001b[38;5;250m    \u001b[39m\u001b[38;5;124;03m\"\"\"\u001b[39;00m\n\u001b[1;32m   1185\u001b[0m \u001b[38;5;124;03m    Vertical bar plot.\u001b[39;00m\n\u001b[1;32m   1186\u001b[0m \n\u001b[0;32m   (...)\u001b[0m\n\u001b[1;32m   1191\u001b[0m \u001b[38;5;124;03m    other axis represents a measured value.\u001b[39;00m\n\u001b[1;32m   1192\u001b[0m \u001b[38;5;124;03m    \"\"\"\u001b[39;00m\n\u001b[0;32m-> 1193\u001b[0m     \u001b[38;5;28;01mreturn\u001b[39;00m \u001b[38;5;28;43mself\u001b[39;49m\u001b[43m(\u001b[49m\u001b[43mkind\u001b[49m\u001b[38;5;241;43m=\u001b[39;49m\u001b[38;5;124;43m\"\u001b[39;49m\u001b[38;5;124;43mbar\u001b[39;49m\u001b[38;5;124;43m\"\u001b[39;49m\u001b[43m,\u001b[49m\u001b[43m \u001b[49m\u001b[43mx\u001b[49m\u001b[38;5;241;43m=\u001b[39;49m\u001b[43mx\u001b[49m\u001b[43m,\u001b[49m\u001b[43m \u001b[49m\u001b[43my\u001b[49m\u001b[38;5;241;43m=\u001b[39;49m\u001b[43my\u001b[49m\u001b[43m,\u001b[49m\u001b[43m \u001b[49m\u001b[38;5;241;43m*\u001b[39;49m\u001b[38;5;241;43m*\u001b[39;49m\u001b[43mkwargs\u001b[49m\u001b[43m)\u001b[49m\n",
      "File \u001b[0;32m/opt/conda/lib/python3.11/site-packages/pandas/plotting/_core.py:996\u001b[0m, in \u001b[0;36mPlotAccessor.__call__\u001b[0;34m(self, *args, **kwargs)\u001b[0m\n\u001b[1;32m    994\u001b[0m \u001b[38;5;28;01mif\u001b[39;00m is_integer(x) \u001b[38;5;129;01mand\u001b[39;00m \u001b[38;5;129;01mnot\u001b[39;00m data\u001b[38;5;241m.\u001b[39mcolumns\u001b[38;5;241m.\u001b[39m_holds_integer():\n\u001b[1;32m    995\u001b[0m     x \u001b[38;5;241m=\u001b[39m data_cols[x]\n\u001b[0;32m--> 996\u001b[0m \u001b[38;5;28;01melif\u001b[39;00m \u001b[38;5;129;01mnot\u001b[39;00m \u001b[38;5;28misinstance\u001b[39m(\u001b[43mdata\u001b[49m\u001b[43m[\u001b[49m\u001b[43mx\u001b[49m\u001b[43m]\u001b[49m, ABCSeries):\n\u001b[1;32m    997\u001b[0m     \u001b[38;5;28;01mraise\u001b[39;00m \u001b[38;5;167;01mValueError\u001b[39;00m(\u001b[38;5;124m\"\u001b[39m\u001b[38;5;124mx must be a label or position\u001b[39m\u001b[38;5;124m\"\u001b[39m)\n\u001b[1;32m    998\u001b[0m data \u001b[38;5;241m=\u001b[39m data\u001b[38;5;241m.\u001b[39mset_index(x)\n",
      "File \u001b[0;32m/opt/conda/lib/python3.11/site-packages/pandas/core/frame.py:3893\u001b[0m, in \u001b[0;36mDataFrame.__getitem__\u001b[0;34m(self, key)\u001b[0m\n\u001b[1;32m   3891\u001b[0m \u001b[38;5;28;01mif\u001b[39;00m \u001b[38;5;28mself\u001b[39m\u001b[38;5;241m.\u001b[39mcolumns\u001b[38;5;241m.\u001b[39mnlevels \u001b[38;5;241m>\u001b[39m \u001b[38;5;241m1\u001b[39m:\n\u001b[1;32m   3892\u001b[0m     \u001b[38;5;28;01mreturn\u001b[39;00m \u001b[38;5;28mself\u001b[39m\u001b[38;5;241m.\u001b[39m_getitem_multilevel(key)\n\u001b[0;32m-> 3893\u001b[0m indexer \u001b[38;5;241m=\u001b[39m \u001b[38;5;28;43mself\u001b[39;49m\u001b[38;5;241;43m.\u001b[39;49m\u001b[43mcolumns\u001b[49m\u001b[38;5;241;43m.\u001b[39;49m\u001b[43mget_loc\u001b[49m\u001b[43m(\u001b[49m\u001b[43mkey\u001b[49m\u001b[43m)\u001b[49m\n\u001b[1;32m   3894\u001b[0m \u001b[38;5;28;01mif\u001b[39;00m is_integer(indexer):\n\u001b[1;32m   3895\u001b[0m     indexer \u001b[38;5;241m=\u001b[39m [indexer]\n",
      "File \u001b[0;32m/opt/conda/lib/python3.11/site-packages/pandas/core/indexes/base.py:3798\u001b[0m, in \u001b[0;36mIndex.get_loc\u001b[0;34m(self, key)\u001b[0m\n\u001b[1;32m   3793\u001b[0m     \u001b[38;5;28;01mif\u001b[39;00m \u001b[38;5;28misinstance\u001b[39m(casted_key, \u001b[38;5;28mslice\u001b[39m) \u001b[38;5;129;01mor\u001b[39;00m (\n\u001b[1;32m   3794\u001b[0m         \u001b[38;5;28misinstance\u001b[39m(casted_key, abc\u001b[38;5;241m.\u001b[39mIterable)\n\u001b[1;32m   3795\u001b[0m         \u001b[38;5;129;01mand\u001b[39;00m \u001b[38;5;28many\u001b[39m(\u001b[38;5;28misinstance\u001b[39m(x, \u001b[38;5;28mslice\u001b[39m) \u001b[38;5;28;01mfor\u001b[39;00m x \u001b[38;5;129;01min\u001b[39;00m casted_key)\n\u001b[1;32m   3796\u001b[0m     ):\n\u001b[1;32m   3797\u001b[0m         \u001b[38;5;28;01mraise\u001b[39;00m InvalidIndexError(key)\n\u001b[0;32m-> 3798\u001b[0m     \u001b[38;5;28;01mraise\u001b[39;00m \u001b[38;5;167;01mKeyError\u001b[39;00m(key) \u001b[38;5;28;01mfrom\u001b[39;00m \u001b[38;5;21;01merr\u001b[39;00m\n\u001b[1;32m   3799\u001b[0m \u001b[38;5;28;01mexcept\u001b[39;00m \u001b[38;5;167;01mTypeError\u001b[39;00m:\n\u001b[1;32m   3800\u001b[0m     \u001b[38;5;66;03m# If we have a listlike key, _check_indexing_error will raise\u001b[39;00m\n\u001b[1;32m   3801\u001b[0m     \u001b[38;5;66;03m#  InvalidIndexError. Otherwise we fall through and re-raise\u001b[39;00m\n\u001b[1;32m   3802\u001b[0m     \u001b[38;5;66;03m#  the TypeError.\u001b[39;00m\n\u001b[1;32m   3803\u001b[0m     \u001b[38;5;28mself\u001b[39m\u001b[38;5;241m.\u001b[39m_check_indexing_error(key)\n",
      "\u001b[0;31mKeyError\u001b[0m: 'zipcode'"
     ]
    }
   ],
   "source": [
    "DD_do.plot.bar(x='zipcode', y ='PAdAsthma2', title= 'Plot')"
   ]
  },
  {
   "cell_type": "code",
   "execution_count": null,
   "id": "d5bac0b0-46b1-475b-9bd1-aaeca17ccb04",
   "metadata": {},
   "outputs": [],
   "source": [
    "#I think this data organized so well or I am not on the right track. I think I need to visit Office hour to figure it out how to show plot\n"
   ]
  }
 ],
 "metadata": {
  "kernelspec": {
   "display_name": "Python 3 (ipykernel)",
   "language": "python",
   "name": "python3"
  },
  "language_info": {
   "codemirror_mode": {
    "name": "ipython",
    "version": 3
   },
   "file_extension": ".py",
   "mimetype": "text/x-python",
   "name": "python",
   "nbconvert_exporter": "python",
   "pygments_lexer": "ipython3",
   "version": "3.11.7"
  }
 },
 "nbformat": 4,
 "nbformat_minor": 5
}
